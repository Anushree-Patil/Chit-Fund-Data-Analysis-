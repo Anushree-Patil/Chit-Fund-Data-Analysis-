{
 "cells": [
  {
   "cell_type": "code",
   "execution_count": 12,
   "metadata": {},
   "outputs": [],
   "source": [
    "import pandas as pd\n",
    "import numpy as np\n"
   ]
  },
  {
   "cell_type": "code",
   "execution_count": 130,
   "metadata": {
    "scrolled": true
   },
   "outputs": [
    {
     "name": "stdout",
     "output_type": "stream",
     "text": [
      "Annualized  Return of the person who bids in the last month is: 22800.0\n",
      "Annualized Return of the person who bids in the first month is: 22800.0\n",
      "  Unnamed: 0    Unnamed: 1                Unnamed: 2  \\\n",
      "0      Month  Contribution  Amount won by the bidder   \n",
      "1          1          2000                     40000   \n",
      "2          2          2000                     42000   \n",
      "3          3          2000                     45000   \n",
      "4          4          2000                     48000   \n",
      "\n",
      "                       Unnamed: 3                     Unnamed: 4  \\\n",
      "0  Chit fund organizer commission  Net amount recd by Bid winner   \n",
      "1                            2500                          37500   \n",
      "2                            2500                          39500   \n",
      "3                            2500                          42500   \n",
      "4                            2500                          45500   \n",
      "\n",
      "                                 Unnamed: 5  Total Return  Annualized Return  \\\n",
      "0  Amount returned to everyone in the group  Total return            22800.0   \n",
      "1                                       400         37900            22800.0   \n",
      "2                                       320         39820            22800.0   \n",
      "3                                       200         42700            22800.0   \n",
      "4                                        80         45580            22800.0   \n",
      "\n",
      "   Return Percentage  \n",
      "0               95.0  \n",
      "1               95.0  \n",
      "2               95.0  \n",
      "3               95.0  \n",
      "4               95.0  \n"
     ]
    }
   ],
   "source": [
    "class ChitFund:\n",
    "    def __init__(self,filename):\n",
    "        self.df = pd.read_excel(filename)\n",
    "        self.totalReturn = self.total_return()\n",
    "\n",
    "    def total_return(self):\n",
    "        #preprocessing of bid_return list\n",
    "        bid_return = np.array(self.df.iloc[:,4:5])\n",
    "        total_return=[]\n",
    "        bid_return = [i[0] for i in bid_return]\n",
    "        m=len(bid_return)\n",
    "       \n",
    "    \n",
    "        #preprocessing of each_month_return list\n",
    "        each_month_return = np.array(self.df.iloc[:,5:6])\n",
    "        each_month_return = [i[0] for i in each_month_return]\n",
    "      \n",
    "        for i in range(0,m):\n",
    "            total_return.append(bid_return[i] + each_month_return[i]) \n",
    "        total_return[0] = 'Total return'\n",
    "        return total_return\n",
    "       \n",
    "      \n",
    "\n",
    "    def annual_return(self):\n",
    "        m= len(self.totalReturn)\n",
    "        for i in range(1,m):\n",
    "            temp = self.totalReturn[i] * (12/25)\n",
    "        return temp\n",
    "\n",
    "    def return_percentage(self):\n",
    "        m= len(self.totalReturn)\n",
    "        for i in range(1,m):\n",
    "            temp = self.totalReturn[i] * (100 / 50000)\n",
    "        return temp\n",
    "\n",
    "    def show_data(self, size):\n",
    "        print(self.df.head(size))\n",
    "\n",
    "\n",
    "\n",
    "def main():\n",
    "    C1 = ChitFund('Z:\\kaleidofin/Exercise_Data.xlsx')\n",
    "    C1.df['Total Return'] = C1.totalReturn\n",
    "    C1.df['Annualized Return'] = C1.annual_return()\n",
    "    C1.df['Return Percentage'] = C1.return_percentage()\n",
    "    print('Annualized  Return of the person who bids in the last month is: {}'.format(list(C1.df['Annualized Return'])[-1]))\n",
    "    print('Annualized Return of the person who bids in the first month is: {}'.format(list(C1.df['Annualized Return'])[0]))\n",
    "    C1.show_data(5)\n",
    "\n",
    "\n",
    "\n",
    "if __name__ =='__main__':\n",
    "    main()"
   ]
  },
  {
   "cell_type": "code",
   "execution_count": null,
   "metadata": {},
   "outputs": [],
   "source": []
  }
 ],
 "metadata": {
  "kernelspec": {
   "display_name": "Python 3",
   "language": "python",
   "name": "python3"
  },
  "language_info": {
   "codemirror_mode": {
    "name": "ipython",
    "version": 3
   },
   "file_extension": ".py",
   "mimetype": "text/x-python",
   "name": "python",
   "nbconvert_exporter": "python",
   "pygments_lexer": "ipython3",
   "version": "3.7.6"
  }
 },
 "nbformat": 4,
 "nbformat_minor": 4
}
